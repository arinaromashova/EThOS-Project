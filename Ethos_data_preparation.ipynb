{
  "nbformat": 4,
  "nbformat_minor": 0,
  "metadata": {
    "colab": {
      "provenance": [],
      "include_colab_link": true
    },
    "kernelspec": {
      "name": "python3",
      "display_name": "Python 3"
    },
    "language_info": {
      "name": "python"
    }
  },
  "cells": [
    {
      "cell_type": "markdown",
      "metadata": {
        "id": "view-in-github",
        "colab_type": "text"
      },
      "source": [
        "<a href=\"https://colab.research.google.com/github/arinaromashova/EThOS-Project/blob/main/Ethos_data_preparation.ipynb\" target=\"_parent\"><img src=\"https://colab.research.google.com/assets/colab-badge.svg\" alt=\"Open In Colab\"/></a>"
      ]
    },
    {
      "cell_type": "code",
      "source": [
        "import numpy as np\n",
        "import pandas as pd"
      ],
      "metadata": {
        "id": "wfiCcgdDXkP6"
      },
      "execution_count": null,
      "outputs": []
    },
    {
      "cell_type": "code",
      "source": [
        "!pip install -U sentence-transformers"
      ],
      "metadata": {
        "id": "ZA_OmKkAXrei"
      },
      "execution_count": null,
      "outputs": []
    },
    {
      "cell_type": "code",
      "source": [
        "from sentence_transformers import SentenceTransformer, util\n",
        "import torch"
      ],
      "metadata": {
        "id": "v50Bp2IpXuYr"
      },
      "execution_count": null,
      "outputs": []
    },
    {
      "cell_type": "code",
      "execution_count": null,
      "metadata": {
        "id": "Ip8E_DNcW6_0"
      },
      "outputs": [],
      "source": [
        "df_full_data=pd.read_csv(\"https://bl.iro.bl.uk/downloads/844ddfb8-122f-4df3-ac47-fb663bb6b31b?locale=en\", encoding = \"ISO-8859-1\", engine=\"pyarrow\")"
      ]
    },
    {
      "cell_type": "code",
      "source": [
        "# add additional columns for the abstract and Ethos id\n",
        "df_full_data['Abstract_full']=df_full_data['Abstract'].apply(lambda x: x.decode('ISO-8859-1'))\n",
        "df_full_data['Ethos_id']=df['EThOS URL'].apply(lambda x: x.split('.')[-1])"
      ],
      "metadata": {
        "id": "7KknewIaXzwG"
      },
      "execution_count": null,
      "outputs": []
    },
    {
      "cell_type": "code",
      "source": [
        "# save the data for future use\n",
        "df_full_data.to_pickle(\"ethos_data.pkl\")"
      ],
      "metadata": {
        "id": "V6_nADIbYXdo"
      },
      "execution_count": null,
      "outputs": []
    },
    {
      "cell_type": "code",
      "source": [
        "# prepare and save title embeddings\n",
        "embedder.max_seq_length=2048\n",
        "title_embeddings = embedder.encode(df_full_data['Title'], convert_to_tensor=True)\n",
        "torch.save(title_embeddings, 'title_embeddings(msmarco-distilbert-base-v4).pt')"
      ],
      "metadata": {
        "id": "tYgJENPaYqeY"
      },
      "execution_count": null,
      "outputs": []
    },
    {
      "cell_type": "code",
      "source": [
        "# prepare and save abstract embeddings\n",
        "abs_emb=embedder.encode(abstracts, convert_to_tensor=True, )\n",
        "torch.save(abs_emb, 'abstract_embeddings(msmarco-distilbert-base-v4).pt')"
      ],
      "metadata": {
        "id": "ZdWcgEuBY5CW"
      },
      "execution_count": null,
      "outputs": []
    }
  ]
}